{
 "cells": [
  {
   "cell_type": "code",
   "execution_count": null,
   "id": "3ed392eb-7de3-483b-900b-b73501b7a43d",
   "metadata": {},
   "outputs": [],
   "source": [
    "import pandas as pd"
   ]
  },
  {
   "cell_type": "code",
   "execution_count": null,
   "id": "0cdb739d-9940-4c2d-a35a-1897f496b27a",
   "metadata": {},
   "outputs": [],
   "source": [
    "wego = pd.read_csv('.\\data\\HeadwayData.csv')"
   ]
  },
  {
   "cell_type": "code",
   "execution_count": null,
   "id": "51007e32-4831-4c31-a094-5b1da0b9fd34",
   "metadata": {},
   "outputs": [],
   "source": [
    "wego.head()"
   ]
  },
  {
   "cell_type": "code",
   "execution_count": null,
   "id": "1960342d-4e03-42b0-8bfe-99ac64e5fc7d",
   "metadata": {},
   "outputs": [],
   "source": [
    "wego.dtypes"
   ]
  },
  {
   "cell_type": "code",
   "execution_count": null,
   "id": "49668ca1-7a23-43b2-95b8-1911fe33b525",
   "metadata": {},
   "outputs": [],
   "source": [
    "wego['DATE'] = pd.to_datetime(wego['DATE'])"
   ]
  },
  {
   "cell_type": "code",
   "execution_count": null,
   "id": "7345a494-b0cd-4be7-9070-da676f628ca3",
   "metadata": {
    "scrolled": true
   },
   "outputs": [],
   "source": [
    "wego.dtypes"
   ]
  },
  {
   "cell_type": "code",
   "execution_count": null,
   "id": "6d2b5e14-96cf-40a8-93a1-ada0186c6588",
   "metadata": {},
   "outputs": [],
   "source": [
    "wego.head()"
   ]
  },
  {
   "cell_type": "code",
   "execution_count": null,
   "id": "c1e0bb14-7563-4608-9017-c9e120c66b96",
   "metadata": {},
   "outputs": [],
   "source": [
    "wego['weekday'] = wego['DATE'].dt.day_name()"
   ]
  },
  {
   "cell_type": "code",
   "execution_count": null,
   "id": "3809a6ce-ee47-4799-b70b-88fd9d847ee2",
   "metadata": {},
   "outputs": [],
   "source": [
    "wego.head()"
   ]
  },
  {
   "cell_type": "code",
   "execution_count": null,
   "id": "637de303-9ef8-4fc1-8135-3ea1c23a7802",
   "metadata": {},
   "outputs": [],
   "source": [
    "drill_down = wego[['ADHERENCE_ID','ROUTE_ABBR', 'OPERATOR', 'ROUTE_DIRECTION_NAME', 'ADJUSTED_EARLY_COUNT', 'ADJUSTED_LATE_COUNT', 'ADJUSTED_ONTIME_COUNT', 'weekday']]"
   ]
  },
  {
   "cell_type": "code",
   "execution_count": null,
   "id": "111a250a-4cc5-4037-a650-603845f3bf23",
   "metadata": {},
   "outputs": [],
   "source": [
    "drill_down.head()"
   ]
  },
  {
   "cell_type": "code",
   "execution_count": null,
   "id": "ac4f7ecb-5d29-4d74-b64b-526245ca26c5",
   "metadata": {},
   "outputs": [],
   "source": [
    "drill_down.to_csv('drill_down.csv')"
   ]
  },
  {
   "cell_type": "code",
   "execution_count": null,
   "id": "5c353877-a4ad-46c5-92aa-6a933990577e",
   "metadata": {},
   "outputs": [],
   "source": []
  }
 ],
 "metadata": {
  "kernelspec": {
   "display_name": "Python 3 (ipykernel)",
   "language": "python",
   "name": "python3"
  },
  "language_info": {
   "codemirror_mode": {
    "name": "ipython",
    "version": 3
   },
   "file_extension": ".py",
   "mimetype": "text/x-python",
   "name": "python",
   "nbconvert_exporter": "python",
   "pygments_lexer": "ipython3",
   "version": "3.11.7"
  }
 },
 "nbformat": 4,
 "nbformat_minor": 5
}
